{
 "cells": [
  {
   "cell_type": "markdown",
   "metadata": {},
   "source": [
    "# Part I : Quel(le) data scientist êtes-vous ?\n",
    "## Contexte de l’analyse\n",
    "\n",
    "Elu métier le plus sexy par la Harvard Business Review en octobre 2012, le data scientist représente un profil rare qui exige de nombreuses compétences.\n",
    "\n",
    "A partir d'un dataset Aquila, vous réaliserez :\n",
    "- un clustering non supervisé afin d'identifier 2 groupes de profils techniques distinctes\n",
    "- une prédiction des profils dont le métier n'est pas labellisé\n",
    "\n",
    "\n",
    "## Données\n",
    "data.csv contient 6 variables : \n",
    "    - 'Entreprise' correspond à une liste d'entreprises fictive\n",
    "    - 'Metier' correspond au métier parmi data scientist, lead data scientist, data engineer et data architecte\n",
    "    - 'Technologies' correspond aux compétences maîtrisées par le profil\n",
    "    - 'Diplome' correspond à son niveau scolaire (Bac, Master, PhD,...)\n",
    "    - 'Experience' correspond au nombre d'années d'expériences\n",
    "    - 'Ville' correspond au lieu de travail\n",
    "    \n",
    "\n",
    "\n",
    "## Répondez aux questions \n",
    "\n",
    "Bonne chance!"
   ]
  },
  {
   "cell_type": "code",
   "execution_count": 1,
   "metadata": {},
   "outputs": [],
   "source": [
    "# Import des libraries classique (numpy, pandas, ...)\n",
    "import pandas as pd\n",
    "import numpy as np\n",
    "import re\n",
    "import sklearn as sk\n",
    "import seaborn as sb\n",
    "\n",
    "from matplotlib import pyplot as plt\n",
    "from sklearn.cluster import KMeans\n",
    "from sklearn.linear_model import LogisticRegression\n",
    "from sklearn.preprocessing import StandardScaler, OneHotEncoder\n",
    "from sklearn.model_selection import train_test_split, GridSearchCV\n",
    "from sklearn.metrics import silhouette_score\n",
    "from sklearn.dummy import DummyClassifier\n",
    "\n",
    "\n",
    "import warnings\n",
    "warnings.filterwarnings('ignore')\n",
    "plt.style.use('ggplot')"
   ]
  },
  {
   "cell_type": "markdown",
   "metadata": {},
   "source": [
    "### 1) Importer le tableau de données dans un dataframe "
   ]
  },
  {
   "cell_type": "code",
   "execution_count": 2,
   "metadata": {},
   "outputs": [
    {
     "data": {
      "text/html": [
       "<div>\n",
       "<style scoped>\n",
       "    .dataframe tbody tr th:only-of-type {\n",
       "        vertical-align: middle;\n",
       "    }\n",
       "\n",
       "    .dataframe tbody tr th {\n",
       "        vertical-align: top;\n",
       "    }\n",
       "\n",
       "    .dataframe thead th {\n",
       "        text-align: right;\n",
       "    }\n",
       "</style>\n",
       "<table border=\"1\" class=\"dataframe\">\n",
       "  <thead>\n",
       "    <tr style=\"text-align: right;\">\n",
       "      <th></th>\n",
       "      <th>Entreprise</th>\n",
       "      <th>Metier</th>\n",
       "      <th>Technologies</th>\n",
       "      <th>Diplome</th>\n",
       "      <th>Experience</th>\n",
       "      <th>Ville</th>\n",
       "    </tr>\n",
       "  </thead>\n",
       "  <tbody>\n",
       "    <tr>\n",
       "      <th>0</th>\n",
       "      <td>Sanofi</td>\n",
       "      <td>Data scientist</td>\n",
       "      <td>Matlab/Python/Pyspark/Scikit-learn/Tensorflow</td>\n",
       "      <td>Master</td>\n",
       "      <td>1.0</td>\n",
       "      <td>Paris</td>\n",
       "    </tr>\n",
       "    <tr>\n",
       "      <th>1</th>\n",
       "      <td>Massachusetts General Hospital(MGH)</td>\n",
       "      <td>Data architecte</td>\n",
       "      <td>Python/Java/Scala/MongoDB</td>\n",
       "      <td>Master</td>\n",
       "      <td>3.0</td>\n",
       "      <td>Marseille</td>\n",
       "    </tr>\n",
       "    <tr>\n",
       "      <th>2</th>\n",
       "      <td>Delve</td>\n",
       "      <td>Lead data scientist</td>\n",
       "      <td>SPSS/SQL/Teradata/R/Python/Tensorflow/scikit-l...</td>\n",
       "      <td>Master</td>\n",
       "      <td>3.0</td>\n",
       "      <td>Nantes</td>\n",
       "    </tr>\n",
       "    <tr>\n",
       "      <th>3</th>\n",
       "      <td>Ann &amp; Robert H. Lurie Children’s Hospital of C...</td>\n",
       "      <td>Data scientist</td>\n",
       "      <td>C/C++/Java/Python</td>\n",
       "      <td>Master</td>\n",
       "      <td>1.5</td>\n",
       "      <td>Marseille</td>\n",
       "    </tr>\n",
       "    <tr>\n",
       "      <th>4</th>\n",
       "      <td>Arm</td>\n",
       "      <td>Data scientist</td>\n",
       "      <td>Matlab/Python/C++/numpy/Tensorflow/scikit-learn</td>\n",
       "      <td>Phd</td>\n",
       "      <td>NaN</td>\n",
       "      <td>Bordeaux</td>\n",
       "    </tr>\n",
       "  </tbody>\n",
       "</table>\n",
       "</div>"
      ],
      "text/plain": [
       "                                          Entreprise               Metier  \\\n",
       "0                                             Sanofi       Data scientist   \n",
       "1                Massachusetts General Hospital(MGH)      Data architecte   \n",
       "2                                              Delve  Lead data scientist   \n",
       "3  Ann & Robert H. Lurie Children’s Hospital of C...       Data scientist   \n",
       "4                                                Arm       Data scientist   \n",
       "\n",
       "                                        Technologies Diplome  Experience  \\\n",
       "0      Matlab/Python/Pyspark/Scikit-learn/Tensorflow  Master         1.0   \n",
       "1                          Python/Java/Scala/MongoDB  Master         3.0   \n",
       "2  SPSS/SQL/Teradata/R/Python/Tensorflow/scikit-l...  Master         3.0   \n",
       "3                                  C/C++/Java/Python  Master         1.5   \n",
       "4    Matlab/Python/C++/numpy/Tensorflow/scikit-learn     Phd         NaN   \n",
       "\n",
       "       Ville  \n",
       "0      Paris  \n",
       "1  Marseille  \n",
       "2     Nantes  \n",
       "3  Marseille  \n",
       "4   Bordeaux  "
      ]
     },
     "execution_count": 2,
     "metadata": {},
     "output_type": "execute_result"
    }
   ],
   "source": [
    "# Import du dataframe \"data.csv\"\n",
    "df = pd.read_csv(\"data.csv\", decimal= ',')  # On précise le signe du décimal qui par défaut est \".\"\n",
    "df.head()"
   ]
  },
  {
   "cell_type": "markdown",
   "metadata": {},
   "source": [
    "### 2) Combien y a t-il d'observations dans ce dataset? Y a t-il des valeurs manquantes? "
   ]
  },
  {
   "cell_type": "code",
   "execution_count": 3,
   "metadata": {},
   "outputs": [
    {
     "name": "stdout",
     "output_type": "stream",
     "text": [
      "Le dataset comporte 9582 observations\n"
     ]
    }
   ],
   "source": [
    "# Nombre d'observations\n",
    "print(f'Le dataset comporte {len(df)} observations')"
   ]
  },
  {
   "cell_type": "code",
   "execution_count": 4,
   "metadata": {},
   "outputs": [
    {
     "data": {
      "text/plain": [
       "Entreprise      17\n",
       "Metier          19\n",
       "Technologies     0\n",
       "Diplome          0\n",
       "Experience      94\n",
       "Ville            0\n",
       "dtype: int64"
      ]
     },
     "execution_count": 4,
     "metadata": {},
     "output_type": "execute_result"
    }
   ],
   "source": [
    "df.isnull().sum()"
   ]
  },
  {
   "cell_type": "markdown",
   "metadata": {},
   "source": [
    "Le dataset comporte des valeurs manquantes: 17 pour la variable 'Entreprise', 19 pour la variable 'Metier' et 94 pour la variable 'Expérience'."
   ]
  },
  {
   "cell_type": "markdown",
   "metadata": {},
   "source": [
    "### 3) Réaliser l'imputation des valeurs manquantes pour la variable \"Experience\" avec : \n",
    "- la valeur médiane pour les data scientists\n",
    "- la valeur moyenne pour les data engineers"
   ]
  },
  {
   "cell_type": "code",
   "execution_count": 5,
   "metadata": {},
   "outputs": [
    {
     "name": "stdout",
     "output_type": "stream",
     "text": [
      "\n",
      "Nombre de NA après imputation lorsque le métier est data scientist : 0\n",
      "Nombre de NA après imputation lorsque le métier est data engineer : 0\n"
     ]
    }
   ],
   "source": [
    "# Imputation de la variable 'Experience' par la médiane lorsque le métier est 'data scientist'\n",
    "df.loc[((df['Metier'] == 'Data scientist') & (df['Experience'].isna())), \n",
    "       'Experience'] = df['Experience'].median()\n",
    "\n",
    "# Imputation de la variable 'Experience' par la moyenne lorsque le métier est 'data engineer'\n",
    "df.loc[((df['Metier'] == 'Data engineer') & (df['Experience'].isna())), \n",
    "       'Experience'] = df['Experience'].mean()\n",
    "\n",
    "# Verification\n",
    "nb_na_ds = df.loc[(df['Metier'] == 'Data scientist'), 'Experience'].isna().sum()\n",
    "nb_na_de = df.loc[(df['Metier'] == 'Data engineer'), 'Experience'].isna().sum()\n",
    "print(f'\\nNombre de NA après imputation lorsque le métier est data scientist : {nb_na_ds}')\n",
    "print(f'Nombre de NA après imputation lorsque le métier est data engineer : {nb_na_de}')"
   ]
  },
  {
   "cell_type": "markdown",
   "metadata": {},
   "source": [
    "Toutes les valeurs manquantes de la variable \"Experience\" ont été imputées lorsque le metier de l'individu est data scientist ou data engineer. "
   ]
  },
  {
   "cell_type": "markdown",
   "metadata": {},
   "source": [
    "### 4) Combien d'années d'expériences ont, en moyenne, chacun des profils : le data scientist, le lead data scientist et le data engineer en moyenne?"
   ]
  },
  {
   "cell_type": "code",
   "execution_count": 6,
   "metadata": {},
   "outputs": [
    {
     "name": "stdout",
     "output_type": "stream",
     "text": [
      "Le tableau suivant donne le nombre d'années d'expériences moyen par métier.\n",
      " \n",
      "                      Experience\n",
      "Metier                         \n",
      "Data architecte        3.000476\n",
      "Data engineer          2.983481\n",
      "Data scientist         2.241268\n",
      "Lead data scientist    3.965261\n"
     ]
    }
   ],
   "source": [
    "print(f\"Le tableau suivant donne le nombre d'années d'expériences moyen par métier.\\n \\n {df.groupby(['Metier'])[['Experience']].mean()}\")"
   ]
  },
  {
   "cell_type": "markdown",
   "metadata": {},
   "source": [
    "### 5) Faire la représentation graphique de votre choix afin de comparer le nombre moyen d'années d'expériences pour chaque métier"
   ]
  },
  {
   "cell_type": "code",
   "execution_count": 7,
   "metadata": {},
   "outputs": [
    {
     "data": {
      "text/plain": [
       "<AxesSubplot:xlabel='Metier', ylabel='Experience'>"
      ]
     },
     "execution_count": 7,
     "metadata": {},
     "output_type": "execute_result"
    },
    {
     "data": {
      "image/png": "[encoded data removed]",
      "text/plain": [
       "<Figure size 432x288 with 1 Axes>"
      ]
     },
     "metadata": {},
     "output_type": "display_data"
    }
   ],
   "source": [
    "order_ = df.groupby(['Metier'])['Experience'].mean().sort_values().index # Pour ordonner les barres\n",
    "sb.barplot(x='Metier', y = 'Experience', data = df, estimator=np.mean, order=order_)"
   ]
  },
  {
   "cell_type": "markdown",
   "metadata": {},
   "source": [
    "### 6) Transformer la variable continue 'Experience' en une nouvelle variable catégorielle 'Exp_label' à 4 modalités: débutant, confirmé, avancé et expert\n",
    "- Veuillez expliquer votre choix du règle de transformation.  "
   ]
  },
  {
   "cell_type": "code",
   "execution_count": 8,
   "metadata": {},
   "outputs": [
    {
     "data": {
      "text/plain": [
       "débutant    4842\n",
       "confirme    3596\n",
       "avance       861\n",
       "expert       241\n",
       "Name: Exp_label, dtype: int64"
      ]
     },
     "execution_count": 8,
     "metadata": {},
     "output_type": "execute_result"
    }
   ],
   "source": [
    "cut_labels = [\n",
    "        'débutant', 'confirme', 'avance', 'expert'\n",
    "        ]\n",
    "cut_bins = [0.0, 2.0, 5.0, 10.0,df['Experience'].max()] # 0-2 'debutant', 2-5 'confirmé', 5-10 'avancé', plus de 10 'expert'\n",
    "df['Exp_label'] = pd.cut(df['Experience'], bins=cut_bins,\n",
    "                         labels=cut_labels,\n",
    "                         include_lowest=True)\n",
    "\n",
    "df['Exp_label'].value_counts() # Verification des effectifs au sein de chaque groupe crée"
   ]
  },
  {
   "cell_type": "markdown",
   "metadata": {},
   "source": [
    "### 7) Quelles sont les 5 technologies les plus utilisées? Faites un graphique"
   ]
  },
  {
   "cell_type": "code",
   "execution_count": 9,
   "metadata": {},
   "outputs": [
    {
     "name": "stdout",
     "output_type": "stream",
     "text": [
      "Le tableau suivant donne les 5 outils les plus utilisés dans l'ordre : \n",
      "\n"
     ]
    },
    {
     "data": {
      "text/html": [
       "<div>\n",
       "<style scoped>\n",
       "    .dataframe tbody tr th:only-of-type {\n",
       "        vertical-align: middle;\n",
       "    }\n",
       "\n",
       "    .dataframe tbody tr th {\n",
       "        vertical-align: top;\n",
       "    }\n",
       "\n",
       "    .dataframe thead th {\n",
       "        text-align: right;\n",
       "    }\n",
       "</style>\n",
       "<table border=\"1\" class=\"dataframe\">\n",
       "  <thead>\n",
       "    <tr style=\"text-align: right;\">\n",
       "      <th></th>\n",
       "      <th>Nb_utilisation</th>\n",
       "      <th>Outils</th>\n",
       "    </tr>\n",
       "  </thead>\n",
       "  <tbody>\n",
       "    <tr>\n",
       "      <th>14</th>\n",
       "      <td>6627.0</td>\n",
       "      <td>Python</td>\n",
       "    </tr>\n",
       "    <tr>\n",
       "      <th>30</th>\n",
       "      <td>4374.0</td>\n",
       "      <td>R</td>\n",
       "    </tr>\n",
       "    <tr>\n",
       "      <th>50</th>\n",
       "      <td>2581.0</td>\n",
       "      <td>SQL</td>\n",
       "    </tr>\n",
       "    <tr>\n",
       "      <th>52</th>\n",
       "      <td>1719.0</td>\n",
       "      <td>Java</td>\n",
       "    </tr>\n",
       "    <tr>\n",
       "      <th>40</th>\n",
       "      <td>1589.0</td>\n",
       "      <td>Hadoop</td>\n",
       "    </tr>\n",
       "  </tbody>\n",
       "</table>\n",
       "</div>"
      ],
      "text/plain": [
       "    Nb_utilisation  Outils\n",
       "14          6627.0  Python\n",
       "30          4374.0       R\n",
       "50          2581.0     SQL\n",
       "52          1719.0    Java\n",
       "40          1589.0  Hadoop"
      ]
     },
     "execution_count": 9,
     "metadata": {},
     "output_type": "execute_result"
    }
   ],
   "source": [
    "# Création de plusieurs colonnes, avec une technologie par colonne\n",
    "df_= df['Technologies'].str.split('/', expand=True)\n",
    "\n",
    "# Création d'un dataFrame ayant comme index les différentes technologies et une colonne contenant la nombre de fois \n",
    "# où la technologie est utilisée\n",
    "dataframe = []\n",
    "for i in range(7):\n",
    "    dataframe.append(pd.DataFrame({'Outils' : pd.Series(df_[i].value_counts()).index, \n",
    "                    'n_utilisation' : pd.Series(df_[i].value_counts())}))\n",
    "    \n",
    "# Récupération de tous les outils disponibles au niveau de la variable 'Technologies' \n",
    "Outils = []\n",
    "for i in range(len(dataframe)):\n",
    "    Outils.append([*dataframe[i]['Outils']])\n",
    "Outils = sum(Outils, [])\n",
    "Outils = list(set(Outils))\n",
    "\n",
    "# Merge des values_count de chaque outils sous forme d'un DataFrame\n",
    "df_0 = pd.DataFrame({'Outils': Outils, 'col_init' : [0 for i in range(len(Outils))]}) #Initialisation du dataFrame                                                                     # contenant tous les outils sur sa colonne 'Outils'\n",
    "for i in range(len(dataframe)):\n",
    "    df_0 = df_0.merge(dataframe[i], on = 'Outils', how = 'left')\n",
    "\n",
    "# Affichage du nombre d'utilisation de chaque outils\n",
    "nb_utilisation = pd.DataFrame({'Nb_utilisation':df_0.sum(axis=1), 'Outils' : [*df_0['Outils']]})\n",
    "\n",
    "print(f\"Le tableau suivant donne les 5 outils les plus utilisés dans l'ordre : \\n\")\n",
    "nb_utilisation.sort_values(by = ['Nb_utilisation'],  ascending=False)[0:5]"
   ]
  },
  {
   "cell_type": "markdown",
   "metadata": {},
   "source": [
    "### 8) Réaliser une méthode de clustering non supervisée de votre choix pour faire apparaître 2 clusters que vous jugerez pertinents. Donnez les caractéristiques de chacun des clusters.\n",
    "-  Justifier la performance de votre algorithme grace à une métrique.\n",
    "-  Interpréter votre resultat.  "
   ]
  },
  {
   "cell_type": "markdown",
   "metadata": {},
   "source": [
    "Nous allons enlever les valeurs manquantes de le base puisqu'elles représentent moins de 1% des données"
   ]
  },
  {
   "cell_type": "markdown",
   "metadata": {},
   "source": [
    "On verifie s'il est nécessaire de garder la variable Ville"
   ]
  },
  {
   "cell_type": "code",
   "execution_count": 10,
   "metadata": {},
   "outputs": [
    {
     "data": {
      "text/plain": [
       "Paris          2015\n",
       "Lyon           1781\n",
       "Marseille      1548\n",
       "Toulouse        871\n",
       "Lille           771\n",
       "Bordeaux        692\n",
       "Nantes          365\n",
       "Rennes          360\n",
       "Rouen           315\n",
       "Strasbourg      309\n",
       "Toulon          186\n",
       "Nice            183\n",
       "Grenoble         99\n",
       "Montpellier      87\n",
       "Name: Ville, dtype: int64"
      ]
     },
     "execution_count": 10,
     "metadata": {},
     "output_type": "execute_result"
    }
   ],
   "source": [
    "df['Ville'].value_counts()"
   ]
  },
  {
   "cell_type": "markdown",
   "metadata": {},
   "source": [
    "Nous constatons que la variables 'Ville' présente plusieurs modalités et l'effectif de ces modalités ne sont pas équilibrés. Cette même analyse est faite sur la variable Entreprise.\n",
    "Donc ces deux variables ne seront pas considérées dans notre modèle."
   ]
  },
  {
   "cell_type": "markdown",
   "metadata": {},
   "source": [
    "Nous allons créer 5 variables dichotomiques portant sur les 5 top technologies utilisées.\n",
    "Exemple, la variable python contient '1' si l'individus utilise Python, '0' sinon."
   ]
  },
  {
   "cell_type": "code",
   "execution_count": 11,
   "metadata": {},
   "outputs": [
    {
     "data": {
      "text/html": [
       "<div>\n",
       "<style scoped>\n",
       "    .dataframe tbody tr th:only-of-type {\n",
       "        vertical-align: middle;\n",
       "    }\n",
       "\n",
       "    .dataframe tbody tr th {\n",
       "        vertical-align: top;\n",
       "    }\n",
       "\n",
       "    .dataframe thead th {\n",
       "        text-align: right;\n",
       "    }\n",
       "</style>\n",
       "<table border=\"1\" class=\"dataframe\">\n",
       "  <thead>\n",
       "    <tr style=\"text-align: right;\">\n",
       "      <th></th>\n",
       "      <th>Entreprise</th>\n",
       "      <th>Metier</th>\n",
       "      <th>Technologies</th>\n",
       "      <th>Diplome</th>\n",
       "      <th>Experience</th>\n",
       "      <th>Ville</th>\n",
       "      <th>Exp_label</th>\n",
       "      <th>Python</th>\n",
       "      <th>R</th>\n",
       "      <th>SQL</th>\n",
       "      <th>Java</th>\n",
       "      <th>Hadoop</th>\n",
       "    </tr>\n",
       "  </thead>\n",
       "  <tbody>\n",
       "    <tr>\n",
       "      <th>0</th>\n",
       "      <td>Sanofi</td>\n",
       "      <td>Data scientist</td>\n",
       "      <td>Matlab/Python/Pyspark/Scikit-learn/Tensorflow</td>\n",
       "      <td>Master</td>\n",
       "      <td>1.0</td>\n",
       "      <td>Paris</td>\n",
       "      <td>débutant</td>\n",
       "      <td>1</td>\n",
       "      <td>0</td>\n",
       "      <td>0</td>\n",
       "      <td>0</td>\n",
       "      <td>0</td>\n",
       "    </tr>\n",
       "    <tr>\n",
       "      <th>1</th>\n",
       "      <td>Massachusetts General Hospital(MGH)</td>\n",
       "      <td>Data architecte</td>\n",
       "      <td>Python/Java/Scala/MongoDB</td>\n",
       "      <td>Master</td>\n",
       "      <td>3.0</td>\n",
       "      <td>Marseille</td>\n",
       "      <td>confirme</td>\n",
       "      <td>1</td>\n",
       "      <td>0</td>\n",
       "      <td>0</td>\n",
       "      <td>1</td>\n",
       "      <td>0</td>\n",
       "    </tr>\n",
       "    <tr>\n",
       "      <th>2</th>\n",
       "      <td>Delve</td>\n",
       "      <td>Lead data scientist</td>\n",
       "      <td>SPSS/SQL/Teradata/R/Python/Tensorflow/scikit-l...</td>\n",
       "      <td>Master</td>\n",
       "      <td>3.0</td>\n",
       "      <td>Nantes</td>\n",
       "      <td>confirme</td>\n",
       "      <td>1</td>\n",
       "      <td>1</td>\n",
       "      <td>1</td>\n",
       "      <td>0</td>\n",
       "      <td>0</td>\n",
       "    </tr>\n",
       "    <tr>\n",
       "      <th>3</th>\n",
       "      <td>Ann &amp; Robert H. Lurie Children’s Hospital of C...</td>\n",
       "      <td>Data scientist</td>\n",
       "      <td>C/C++/Java/Python</td>\n",
       "      <td>Master</td>\n",
       "      <td>1.5</td>\n",
       "      <td>Marseille</td>\n",
       "      <td>débutant</td>\n",
       "      <td>1</td>\n",
       "      <td>0</td>\n",
       "      <td>0</td>\n",
       "      <td>1</td>\n",
       "      <td>0</td>\n",
       "    </tr>\n",
       "    <tr>\n",
       "      <th>4</th>\n",
       "      <td>Arm</td>\n",
       "      <td>Data scientist</td>\n",
       "      <td>Matlab/Python/C++/numpy/Tensorflow/scikit-learn</td>\n",
       "      <td>Phd</td>\n",
       "      <td>2.0</td>\n",
       "      <td>Bordeaux</td>\n",
       "      <td>débutant</td>\n",
       "      <td>1</td>\n",
       "      <td>0</td>\n",
       "      <td>0</td>\n",
       "      <td>0</td>\n",
       "      <td>0</td>\n",
       "    </tr>\n",
       "  </tbody>\n",
       "</table>\n",
       "</div>"
      ],
      "text/plain": [
       "                                          Entreprise               Metier  \\\n",
       "0                                             Sanofi       Data scientist   \n",
       "1                Massachusetts General Hospital(MGH)      Data architecte   \n",
       "2                                              Delve  Lead data scientist   \n",
       "3  Ann & Robert H. Lurie Children’s Hospital of C...       Data scientist   \n",
       "4                                                Arm       Data scientist   \n",
       "\n",
       "                                        Technologies Diplome  Experience  \\\n",
       "0      Matlab/Python/Pyspark/Scikit-learn/Tensorflow  Master         1.0   \n",
       "1                          Python/Java/Scala/MongoDB  Master         3.0   \n",
       "2  SPSS/SQL/Teradata/R/Python/Tensorflow/scikit-l...  Master         3.0   \n",
       "3                                  C/C++/Java/Python  Master         1.5   \n",
       "4    Matlab/Python/C++/numpy/Tensorflow/scikit-learn     Phd         2.0   \n",
       "\n",
       "       Ville Exp_label  Python  R  SQL  Java  Hadoop  \n",
       "0      Paris  débutant       1  0    0     0       0  \n",
       "1  Marseille  confirme       1  0    0     1       0  \n",
       "2     Nantes  confirme       1  1    1     0       0  \n",
       "3  Marseille  débutant       1  0    0     1       0  \n",
       "4   Bordeaux  débutant       1  0    0     0       0  "
      ]
     },
     "execution_count": 11,
     "metadata": {},
     "output_type": "execute_result"
    }
   ],
   "source": [
    "# Création des 5 variables \n",
    "var_tech = [\n",
    "    'Python', 'R', 'SQL', 'Java', 'Hadoop'\n",
    "    ]\n",
    "for tech in var_tech :\n",
    "    df[tech] =  0\n",
    "    df.loc[df['Technologies'].str.contains(tech, case=True), tech] = 1\n",
    "\n",
    "# Garder le dataset pour la dernière question\n",
    "df_class = df\n",
    "df.head()"
   ]
  },
  {
   "cell_type": "code",
   "execution_count": 12,
   "metadata": {},
   "outputs": [
    {
     "name": "stdout",
     "output_type": "stream",
     "text": [
      "Pourcentage de données restantes : 99.19%\n"
     ]
    }
   ],
   "source": [
    "# Préparation du dataset pour le clustering\n",
    "df_clus = df.dropna()\n",
    "print(f\"Pourcentage de données restantes : {round(df_clus.shape[0]/len(df)*100,2)}%\")\n",
    "\n",
    "# Suppression de variables qui ne seront pas considérées\n",
    "var_ = ['Ville', 'Experience', 'Entreprise', 'Technologies']\n",
    "df_clus = df_clus.drop(columns = var_)\n",
    "\n",
    "# Encodage des variables catégorielles en type numéric \n",
    "var = ['Diplome', 'Metier', 'Exp_label']\n",
    "df_demmies = pd.get_dummies(df_clus[var])\n",
    "df_clus = df_clus.drop(columns = var, axis=1)\n",
    "df_clus = pd.concat([df_demmies, df_clus], axis=1)"
   ]
  },
  {
   "cell_type": "code",
   "execution_count": 13,
   "metadata": {},
   "outputs": [
    {
     "name": "stdout",
     "output_type": "stream",
     "text": [
      "Distribution des clusters \n",
      " 1    5009\n",
      "0    4495\n",
      "dtype: int64\n",
      "Indice de silhouette : 0.1903\n"
     ]
    }
   ],
   "source": [
    "# Application de l'approche KMEANS pour trouver les deux clusters\n",
    "kmeans = KMeans(n_clusters= 2, n_init = 20, random_state=1).fit(df_clus)\n",
    "labels =  kmeans.labels_\n",
    "\n",
    "# Distribution des clusters\n",
    "print(f'Distribution des clusters \\n {pd.Series(labels).value_counts()}')\n",
    "print(f'Indice de silhouette : {round(silhouette_score(df_clus, labels, random_state=100), 4)}')"
   ]
  },
  {
   "cell_type": "markdown",
   "metadata": {},
   "source": [
    "Nous avons obtenu un score pas assez satisfaisant mais qui reste positive puisque l'indice silhouette prend ses valeurs entre 1 et -1"
   ]
  },
  {
   "cell_type": "markdown",
   "metadata": {},
   "source": [
    "### Cractérisation des clusters"
   ]
  },
  {
   "cell_type": "code",
   "execution_count": 14,
   "metadata": {},
   "outputs": [
    {
     "data": {
      "image/png": "[encoded data removed]",
      "text/plain": [
       "<Figure size 432x288 with 1 Axes>"
      ]
     },
     "metadata": {},
     "output_type": "display_data"
    }
   ],
   "source": [
    "plt.figure()\n",
    "pal = [\"#682F2F\",\"#B9C0C9\"]\n",
    "pl = sb.countplot(labels, palette= pal)\n",
    "pl.set_title(\"Distribution des Clusters\")\n",
    "plt.show()"
   ]
  },
  {
   "cell_type": "markdown",
   "metadata": {},
   "source": [
    "Nous avons obtenu deux classes assez équilibrées"
   ]
  },
  {
   "cell_type": "code",
   "execution_count": 15,
   "metadata": {},
   "outputs": [
    {
     "data": {
      "image/png": "[encoded data removed]",
      "text/plain": [
       "<Figure size 432x288 with 1 Axes>"
      ]
     },
     "metadata": {},
     "output_type": "display_data"
    }
   ],
   "source": [
    "df_clus = df.dropna()\n",
    "\n",
    "plt.figure()\n",
    "pl = sb.countplot(df_clus['Exp_label'], hue = labels, palette = pal)\n",
    "pl.set_title(\"Composition des clusters en termes de niveau d'expérience\")\n",
    "pl.set_xlabel(\"Niveau d'expérience\")\n",
    "plt.show()"
   ]
  },
  {
   "cell_type": "code",
   "execution_count": 16,
   "metadata": {
    "scrolled": true
   },
   "outputs": [
    {
     "data": {
      "image/png": "[encoded data removed]",
      "text/plain": [
       "<Figure size 432x288 with 1 Axes>"
      ]
     },
     "metadata": {},
     "output_type": "display_data"
    }
   ],
   "source": [
    "df_clus = df.dropna()\n",
    "\n",
    "plt.figure()\n",
    "pl = sb.countplot(df_clus['Metier'], hue = labels, palette = pal)\n",
    "pl.set_title(\"Composition des clusters en en termes de métier\")\n",
    "pl.set_xlabel(\"Niveau d'expérience\")\n",
    "plt.show()"
   ]
  },
  {
   "cell_type": "markdown",
   "metadata": {},
   "source": [
    "On peut nettement constater que la classe '1' est majoritairement composée par les data scientists ou et Lead data scientists alors que la classe '0' est majoritairement composée par des data architect et data engineer."
   ]
  },
  {
   "cell_type": "code",
   "execution_count": 17,
   "metadata": {},
   "outputs": [
    {
     "data": {
      "image/png": "[encoded data removed]",
      "text/plain": [
       "<Figure size 432x288 with 1 Axes>"
      ]
     },
     "metadata": {},
     "output_type": "display_data"
    }
   ],
   "source": [
    "df_clus = df.dropna()\n",
    "\n",
    "plt.figure()\n",
    "pl = sb.countplot(df_clus['Diplome'], hue = labels, palette = pal)\n",
    "pl.set_title(\"Composition des classes en terme de niveau de diplome\")\n",
    "pl.set_xlabel(\"Niveau d'expérience\")\n",
    "plt.show()"
   ]
  },
  {
   "cell_type": "markdown",
   "metadata": {},
   "source": [
    "### 9) Réaliser la prédiction des métiers manquants dans la base de données par l'algorithme de votre choix\n",
    "-  Justifier la performance de votre algorithme grace à une métrique.\n",
    "-  Interpréter votre resultat.  "
   ]
  },
  {
   "cell_type": "markdown",
   "metadata": {},
   "source": [
    "On va reprendre le dataset déjà préparé lors de notre clustering"
   ]
  },
  {
   "cell_type": "code",
   "execution_count": 18,
   "metadata": {},
   "outputs": [
    {
     "data": {
      "text/html": [
       "<div>\n",
       "<style scoped>\n",
       "    .dataframe tbody tr th:only-of-type {\n",
       "        vertical-align: middle;\n",
       "    }\n",
       "\n",
       "    .dataframe tbody tr th {\n",
       "        vertical-align: top;\n",
       "    }\n",
       "\n",
       "    .dataframe thead th {\n",
       "        text-align: right;\n",
       "    }\n",
       "</style>\n",
       "<table border=\"1\" class=\"dataframe\">\n",
       "  <thead>\n",
       "    <tr style=\"text-align: right;\">\n",
       "      <th></th>\n",
       "      <th>Entreprise</th>\n",
       "      <th>Metier</th>\n",
       "      <th>Technologies</th>\n",
       "      <th>Diplome</th>\n",
       "      <th>Experience</th>\n",
       "      <th>Ville</th>\n",
       "      <th>Exp_label</th>\n",
       "      <th>Python</th>\n",
       "      <th>R</th>\n",
       "      <th>SQL</th>\n",
       "      <th>Java</th>\n",
       "      <th>Hadoop</th>\n",
       "    </tr>\n",
       "  </thead>\n",
       "  <tbody>\n",
       "    <tr>\n",
       "      <th>0</th>\n",
       "      <td>Sanofi</td>\n",
       "      <td>Data scientist</td>\n",
       "      <td>Matlab/Python/Pyspark/Scikit-learn/Tensorflow</td>\n",
       "      <td>Master</td>\n",
       "      <td>1.0</td>\n",
       "      <td>Paris</td>\n",
       "      <td>débutant</td>\n",
       "      <td>1</td>\n",
       "      <td>0</td>\n",
       "      <td>0</td>\n",
       "      <td>0</td>\n",
       "      <td>0</td>\n",
       "    </tr>\n",
       "    <tr>\n",
       "      <th>1</th>\n",
       "      <td>Massachusetts General Hospital(MGH)</td>\n",
       "      <td>Data architecte</td>\n",
       "      <td>Python/Java/Scala/MongoDB</td>\n",
       "      <td>Master</td>\n",
       "      <td>3.0</td>\n",
       "      <td>Marseille</td>\n",
       "      <td>confirme</td>\n",
       "      <td>1</td>\n",
       "      <td>0</td>\n",
       "      <td>0</td>\n",
       "      <td>1</td>\n",
       "      <td>0</td>\n",
       "    </tr>\n",
       "    <tr>\n",
       "      <th>2</th>\n",
       "      <td>Delve</td>\n",
       "      <td>Lead data scientist</td>\n",
       "      <td>SPSS/SQL/Teradata/R/Python/Tensorflow/scikit-l...</td>\n",
       "      <td>Master</td>\n",
       "      <td>3.0</td>\n",
       "      <td>Nantes</td>\n",
       "      <td>confirme</td>\n",
       "      <td>1</td>\n",
       "      <td>1</td>\n",
       "      <td>1</td>\n",
       "      <td>0</td>\n",
       "      <td>0</td>\n",
       "    </tr>\n",
       "    <tr>\n",
       "      <th>3</th>\n",
       "      <td>Ann &amp; Robert H. Lurie Children’s Hospital of C...</td>\n",
       "      <td>Data scientist</td>\n",
       "      <td>C/C++/Java/Python</td>\n",
       "      <td>Master</td>\n",
       "      <td>1.5</td>\n",
       "      <td>Marseille</td>\n",
       "      <td>débutant</td>\n",
       "      <td>1</td>\n",
       "      <td>0</td>\n",
       "      <td>0</td>\n",
       "      <td>1</td>\n",
       "      <td>0</td>\n",
       "    </tr>\n",
       "    <tr>\n",
       "      <th>4</th>\n",
       "      <td>Arm</td>\n",
       "      <td>Data scientist</td>\n",
       "      <td>Matlab/Python/C++/numpy/Tensorflow/scikit-learn</td>\n",
       "      <td>Phd</td>\n",
       "      <td>2.0</td>\n",
       "      <td>Bordeaux</td>\n",
       "      <td>débutant</td>\n",
       "      <td>1</td>\n",
       "      <td>0</td>\n",
       "      <td>0</td>\n",
       "      <td>0</td>\n",
       "      <td>0</td>\n",
       "    </tr>\n",
       "  </tbody>\n",
       "</table>\n",
       "</div>"
      ],
      "text/plain": [
       "                                          Entreprise               Metier  \\\n",
       "0                                             Sanofi       Data scientist   \n",
       "1                Massachusetts General Hospital(MGH)      Data architecte   \n",
       "2                                              Delve  Lead data scientist   \n",
       "3  Ann & Robert H. Lurie Children’s Hospital of C...       Data scientist   \n",
       "4                                                Arm       Data scientist   \n",
       "\n",
       "                                        Technologies Diplome  Experience  \\\n",
       "0      Matlab/Python/Pyspark/Scikit-learn/Tensorflow  Master         1.0   \n",
       "1                          Python/Java/Scala/MongoDB  Master         3.0   \n",
       "2  SPSS/SQL/Teradata/R/Python/Tensorflow/scikit-l...  Master         3.0   \n",
       "3                                  C/C++/Java/Python  Master         1.5   \n",
       "4    Matlab/Python/C++/numpy/Tensorflow/scikit-learn     Phd         2.0   \n",
       "\n",
       "       Ville Exp_label  Python  R  SQL  Java  Hadoop  \n",
       "0      Paris  débutant       1  0    0     0       0  \n",
       "1  Marseille  confirme       1  0    0     1       0  \n",
       "2     Nantes  confirme       1  1    1     0       0  \n",
       "3  Marseille  débutant       1  0    0     1       0  \n",
       "4   Bordeaux  débutant       1  0    0     0       0  "
      ]
     },
     "execution_count": 18,
     "metadata": {},
     "output_type": "execute_result"
    }
   ],
   "source": [
    "df_class.head()"
   ]
  },
  {
   "cell_type": "code",
   "execution_count": 19,
   "metadata": {},
   "outputs": [
    {
     "data": {
      "text/html": [
       "<div>\n",
       "<style scoped>\n",
       "    .dataframe tbody tr th:only-of-type {\n",
       "        vertical-align: middle;\n",
       "    }\n",
       "\n",
       "    .dataframe tbody tr th {\n",
       "        vertical-align: top;\n",
       "    }\n",
       "\n",
       "    .dataframe thead th {\n",
       "        text-align: right;\n",
       "    }\n",
       "</style>\n",
       "<table border=\"1\" class=\"dataframe\">\n",
       "  <thead>\n",
       "    <tr style=\"text-align: right;\">\n",
       "      <th></th>\n",
       "      <th>Diplome_Bachelor</th>\n",
       "      <th>Diplome_Master</th>\n",
       "      <th>Diplome_No diploma</th>\n",
       "      <th>Diplome_Phd</th>\n",
       "      <th>Exp_label_débutant</th>\n",
       "      <th>Exp_label_confirme</th>\n",
       "      <th>Exp_label_avance</th>\n",
       "      <th>Exp_label_expert</th>\n",
       "      <th>Metier</th>\n",
       "      <th>Python</th>\n",
       "      <th>R</th>\n",
       "      <th>SQL</th>\n",
       "      <th>Java</th>\n",
       "      <th>Hadoop</th>\n",
       "    </tr>\n",
       "  </thead>\n",
       "  <tbody>\n",
       "    <tr>\n",
       "      <th>0</th>\n",
       "      <td>0</td>\n",
       "      <td>1</td>\n",
       "      <td>0</td>\n",
       "      <td>0</td>\n",
       "      <td>1</td>\n",
       "      <td>0</td>\n",
       "      <td>0</td>\n",
       "      <td>0</td>\n",
       "      <td>Data scientist</td>\n",
       "      <td>1</td>\n",
       "      <td>0</td>\n",
       "      <td>0</td>\n",
       "      <td>0</td>\n",
       "      <td>0</td>\n",
       "    </tr>\n",
       "    <tr>\n",
       "      <th>1</th>\n",
       "      <td>0</td>\n",
       "      <td>1</td>\n",
       "      <td>0</td>\n",
       "      <td>0</td>\n",
       "      <td>0</td>\n",
       "      <td>1</td>\n",
       "      <td>0</td>\n",
       "      <td>0</td>\n",
       "      <td>Data architecte</td>\n",
       "      <td>1</td>\n",
       "      <td>0</td>\n",
       "      <td>0</td>\n",
       "      <td>1</td>\n",
       "      <td>0</td>\n",
       "    </tr>\n",
       "    <tr>\n",
       "      <th>2</th>\n",
       "      <td>0</td>\n",
       "      <td>1</td>\n",
       "      <td>0</td>\n",
       "      <td>0</td>\n",
       "      <td>0</td>\n",
       "      <td>1</td>\n",
       "      <td>0</td>\n",
       "      <td>0</td>\n",
       "      <td>Lead data scientist</td>\n",
       "      <td>1</td>\n",
       "      <td>1</td>\n",
       "      <td>1</td>\n",
       "      <td>0</td>\n",
       "      <td>0</td>\n",
       "    </tr>\n",
       "    <tr>\n",
       "      <th>3</th>\n",
       "      <td>0</td>\n",
       "      <td>1</td>\n",
       "      <td>0</td>\n",
       "      <td>0</td>\n",
       "      <td>1</td>\n",
       "      <td>0</td>\n",
       "      <td>0</td>\n",
       "      <td>0</td>\n",
       "      <td>Data scientist</td>\n",
       "      <td>1</td>\n",
       "      <td>0</td>\n",
       "      <td>0</td>\n",
       "      <td>1</td>\n",
       "      <td>0</td>\n",
       "    </tr>\n",
       "    <tr>\n",
       "      <th>4</th>\n",
       "      <td>0</td>\n",
       "      <td>0</td>\n",
       "      <td>0</td>\n",
       "      <td>1</td>\n",
       "      <td>1</td>\n",
       "      <td>0</td>\n",
       "      <td>0</td>\n",
       "      <td>0</td>\n",
       "      <td>Data scientist</td>\n",
       "      <td>1</td>\n",
       "      <td>0</td>\n",
       "      <td>0</td>\n",
       "      <td>0</td>\n",
       "      <td>0</td>\n",
       "    </tr>\n",
       "  </tbody>\n",
       "</table>\n",
       "</div>"
      ],
      "text/plain": [
       "   Diplome_Bachelor  Diplome_Master  Diplome_No diploma  Diplome_Phd  \\\n",
       "0                 0               1                   0            0   \n",
       "1                 0               1                   0            0   \n",
       "2                 0               1                   0            0   \n",
       "3                 0               1                   0            0   \n",
       "4                 0               0                   0            1   \n",
       "\n",
       "   Exp_label_débutant  Exp_label_confirme  Exp_label_avance  Exp_label_expert  \\\n",
       "0                   1                   0                 0                 0   \n",
       "1                   0                   1                 0                 0   \n",
       "2                   0                   1                 0                 0   \n",
       "3                   1                   0                 0                 0   \n",
       "4                   1                   0                 0                 0   \n",
       "\n",
       "                Metier  Python  R  SQL  Java  Hadoop  \n",
       "0       Data scientist       1  0    0     0       0  \n",
       "1      Data architecte       1  0    0     1       0  \n",
       "2  Lead data scientist       1  1    1     0       0  \n",
       "3       Data scientist       1  0    0     1       0  \n",
       "4       Data scientist       1  0    0     0       0  "
      ]
     },
     "execution_count": 19,
     "metadata": {},
     "output_type": "execute_result"
    }
   ],
   "source": [
    "#Suppression des variables 'Villes', 'Technologies' et experience\n",
    "df_class = df_class.drop(columns = ['Technologies', 'Ville', 'Experience', 'Entreprise'], axis=1)\n",
    "\n",
    "# Encodage des variables catégorielle de types numéric 'Diplome' 'Expe_label' pour l'apprentissage\n",
    "var = ['Diplome', 'Exp_label']\n",
    "df_demmies = pd.get_dummies(df_class[var])\n",
    "df_class = df_class.drop(columns = var, axis=1)\n",
    "df_class = pd.concat([df_demmies, df_class], axis=1)\n",
    "df_class.head()"
   ]
  },
  {
   "cell_type": "code",
   "execution_count": 20,
   "metadata": {},
   "outputs": [
    {
     "name": "stdout",
     "output_type": "stream",
     "text": [
      "Dimensions du dataset qui servira dans l'apprentissag et le test: (9563, 14)\n",
      "Dimensions du dataset qui servira dans la prediction : (19, 14)\n",
      "Dimension de X : (9563, 13)\n",
      "Dimension de y : (9563,)\n"
     ]
    }
   ],
   "source": [
    "#Séparation du dataset en deux partie : train_test et to_predict\n",
    "df_to_pred = df_class[df_class['Metier'].isna()]\n",
    "df_train_test = df_class[~(df_class['Metier'].isna())]\n",
    "print(f\"Dimensions du dataset qui servira dans l'apprentissag et le test: {df_train_test.shape}\")\n",
    "print(f\"Dimensions du dataset qui servira dans la prediction : {df_to_pred.shape}\")\n",
    "\n",
    "# Encodage de la variable cyble Metier en numeric\n",
    "label = { 'Data scientist' : 0 , 'Data engineer': 1,\n",
    "         'Data architecte' : 2, 'Lead data scientist' : 3}\n",
    "df_train_test.Metier = df_train_test.Metier.map(label)\n",
    "\n",
    "#Recupération de X et y\n",
    "X, y = df_train_test.loc[:, df_train_test.columns != 'Metier'], df_train_test.Metier\n",
    "\n",
    "print(f\"Dimension de X : {X.shape}\")\n",
    "print(f\"Dimension de y : {y.shape}\")"
   ]
  },
  {
   "cell_type": "code",
   "execution_count": 21,
   "metadata": {},
   "outputs": [
    {
     "name": "stdout",
     "output_type": "stream",
     "text": [
      "Dimensions de X_train : (7172, 13)\n",
      "Dimensions de y_train : (7172, 13)\n",
      "Dimensions de X_test : (2391, 13)\n",
      "Dimensions de y_test : (2391,)\n"
     ]
    }
   ],
   "source": [
    "# Séparation du dataset en données d'apprentissage et de test\n",
    "X_train, X_test, y_train, y_test = train_test_split(X, y, test_size = 0.25, random_state = 12)\n",
    "\n",
    "print(f\"Dimensions de X_train : {X_train.shape}\")\n",
    "print(f\"Dimensions de y_train : {X_train.shape}\")\n",
    "print(f\"Dimensions de X_test : {X_test.shape}\")\n",
    "print(f\"Dimensions de y_test : {y_test.shape}\")"
   ]
  },
  {
   "cell_type": "code",
   "execution_count": 22,
   "metadata": {},
   "outputs": [
    {
     "data": {
      "text/plain": [
       "0.2915098285236303"
      ]
     },
     "execution_count": 22,
     "metadata": {},
     "output_type": "execute_result"
    }
   ],
   "source": [
    "# Verifier le score avec une dummy model\n",
    "dc = DummyClassifier().fit(X_train, y_train)\n",
    "dc.score(X_test, y_test)"
   ]
  },
  {
   "cell_type": "code",
   "execution_count": 23,
   "metadata": {},
   "outputs": [
    {
     "name": "stdout",
     "output_type": "stream",
     "text": [
      "Selection des hpyerparametres :(meilleurs parameters) {'C': 1.0, 'penalty': 'l2'}\n",
      "Accuracy : 0.6331585827513984\n"
     ]
    }
   ],
   "source": [
    "# Nous allons appliquers une regression Logistiques qui est approche classique en apprentissage supervisé\n",
    "# Nous chercherons les paramètres qui donnent le meilleurs score\n",
    "params = {\n",
    "    \"C\":np.logspace(-3,3,7),\n",
    "    \"penalty\" : [\"l2\", \"l1\", \"none\"],\n",
    "}\n",
    "\n",
    "lc = LogisticRegression(random_state= 0, max_iter= 1000)\n",
    "lc_cv = GridSearchCV(lc,params)\n",
    "lc_cv.fit(X_train, y_train)\n",
    "\n",
    "# Comme mesure de performance nous utilisons\n",
    "# l'accuracy qui est une montre qui donne la capacité préditive du modèle à partir des données tests.\n",
    "print(f\"Selection des hpyerparametres :(meilleurs parameters) {lc_cv.best_params_}\")\n",
    "print(f\"Accuracy : {lc_cv.best_score_}\")\n",
    "\n",
    "\n",
    "#model = LogisticRegression().fit(X_train, y_train)\n",
    "#model.score(X_test, y_test)\n"
   ]
  },
  {
   "cell_type": "markdown",
   "metadata": {},
   "source": [
    "### Prédiction des métiers manquantes"
   ]
  },
  {
   "cell_type": "code",
   "execution_count": 24,
   "metadata": {},
   "outputs": [
    {
     "data": {
      "text/plain": [
       "Data scientist         11\n",
       "Data architecte         5\n",
       "Lead data scientist     2\n",
       "Data engineer           1\n",
       "Name: Metier, dtype: int64"
      ]
     },
     "execution_count": 24,
     "metadata": {},
     "output_type": "execute_result"
    }
   ],
   "source": [
    "df_to_pred.Metier = lc_cv.predict(df_to_pred.loc[:, df_to_pred.columns != 'Metier'])\n",
    "\n",
    "# Decodage de la variable cyble Metier en numeric\n",
    "label_d = { 0: 'Data scientist', 1: 'Data engineer',\n",
    "         2: 'Data architecte', 3 : 'Lead data scientist'}\n",
    "df_to_pred.Metier = df_to_pred.Metier.map(label_d)\n",
    "df_to_pred.Metier.value_counts()"
   ]
  },
  {
   "cell_type": "markdown",
   "metadata": {},
   "source": [
    "#### A 63% nous avons prédit les métiers qui n'étaient pas renseignés"
   ]
  }
 ],
 "metadata": {
  "kernelspec": {
   "display_name": "Python 3",
   "language": "python",
   "name": "python3"
  },
  "language_info": {
   "codemirror_mode": {
    "name": "ipython",
    "version": 3
   },
   "file_extension": ".py",
   "mimetype": "text/x-python",
   "name": "python",
   "nbconvert_exporter": "python",
   "pygments_lexer": "ipython3",
   "version": "3.8.5"
  }
 },
 "nbformat": 4,
 "nbformat_minor": 2
}
